{
 "cells": [
  {
   "cell_type": "markdown",
   "id": "61f9f86a",
   "metadata": {},
   "source": [
    "# Cardiovascular Disease Dataset"
   ]
  },
  {
   "cell_type": "code",
   "execution_count": 8,
   "id": "275a8c4c",
   "metadata": {},
   "outputs": [],
   "source": [
    "import pandas as pd\n",
    "import numpy as np\n",
    "import matplotlib.pyplot as plt\n",
    "import seaborn as sns"
   ]
  },
  {
   "cell_type": "markdown",
   "id": "82987e34",
   "metadata": {},
   "source": [
    "### Connect to SQL Database in Jupyter Notebook"
   ]
  },
  {
   "cell_type": "code",
   "execution_count": 1,
   "id": "963a16ae",
   "metadata": {},
   "outputs": [],
   "source": [
    "from sqlalchemy import create_engine\n",
    "\n",
    "#Connect to local database\n",
    "engine = create_engine(\"sqlite:///C:\\\\Users\\sandr\\OneDrive\\Desktop\\Metis\\DS_Engineering\\Projects\\Data_Pipeline\\github_files\\cardiovascular_mortality_db.db\")"
   ]
  },
  {
   "cell_type": "code",
   "execution_count": 2,
   "id": "78df0ac8",
   "metadata": {},
   "outputs": [
    {
     "name": "stderr",
     "output_type": "stream",
     "text": [
      "C:\\Users\\sandr\\AppData\\Local\\Temp/ipykernel_271564/2034969820.py:2: SADeprecationWarning: The Engine.table_names() method is deprecated and will be removed in a future release.  Please refer to Inspector.get_table_names(). (deprecated since: 1.4)\n",
      "  engine.table_names()\n"
     ]
    },
    {
     "data": {
      "text/plain": [
       "['cv_mortality', 'new_table']"
      ]
     },
     "execution_count": 2,
     "metadata": {},
     "output_type": "execute_result"
    }
   ],
   "source": [
    "#Check tables in database\n",
    "engine.table_names()"
   ]
  },
  {
   "cell_type": "code",
   "execution_count": 3,
   "id": "6caeac87",
   "metadata": {},
   "outputs": [],
   "source": [
    "#Use ipython-sql enables running SQL queries directly from Jupyter\n",
    "#Load ipython-sql extension\n",
    "%load_ext sql"
   ]
  },
  {
   "cell_type": "code",
   "execution_count": 4,
   "id": "efc4fa86",
   "metadata": {},
   "outputs": [
    {
     "name": "stdout",
     "output_type": "stream",
     "text": [
      "connecting with engine Engine(sqlite:///C:\\Users\\sandr\\OneDrive\\Desktop\\Metis\\DS_Engineering\\Projects\\Data_Pipeline\\github_files\\cardiovascular_mortality_db.db)\n"
     ]
    }
   ],
   "source": [
    "#Print the engine connection string\n",
    "print(\"connecting with engine \" + str(engine))"
   ]
  },
  {
   "cell_type": "code",
   "execution_count": 5,
   "id": "353aa94a",
   "metadata": {},
   "outputs": [],
   "source": [
    "#Use connection string to connect\n",
    "%sql sqlite:///C:\\Users\\sandr\\OneDrive\\Desktop\\Metis\\DS_Engineering\\Projects\\Data_Pipeline\\github_files\\cardiovascular_mortality_db.db"
   ]
  },
  {
   "cell_type": "code",
   "execution_count": 6,
   "id": "3be7475e",
   "metadata": {},
   "outputs": [
    {
     "name": "stdout",
     "output_type": "stream",
     "text": [
      " * sqlite:///C:\\Users\\sandr\\OneDrive\\Desktop\\Metis\\DS_Engineering\\Projects\\Data_Pipeline\\github_files\\cardiovascular_mortality_db.db\n",
      "Done.\n"
     ]
    },
    {
     "data": {
      "text/html": [
       "<table>\n",
       "    <tr>\n",
       "        <th>LocationID</th>\n",
       "        <th>Year</th>\n",
       "        <th>State</th>\n",
       "        <th>County</th>\n",
       "        <th>Class</th>\n",
       "        <th>Data_Value</th>\n",
       "        <th>Data_Value_Unit</th>\n",
       "        <th>Confidence_limit_Low</th>\n",
       "        <th>Confidence_limit_High</th>\n",
       "        <th>Age Group</th>\n",
       "        <th>Race/Ethnicity</th>\n",
       "        <th>Sex</th>\n",
       "        <th>X_long</th>\n",
       "        <th>Y_lat</th>\n",
       "    </tr>\n",
       "    <tr>\n",
       "        <td>1001</td>\n",
       "        <td>2000</td>\n",
       "        <td>AL</td>\n",
       "        <td>Autauga</td>\n",
       "        <td>Cardiovascular Diseases</td>\n",
       "        <td>76.9</td>\n",
       "        <td>per 100,000</td>\n",
       "        <td>61.5</td>\n",
       "        <td>99.6</td>\n",
       "        <td>Ages 35-64 years</td>\n",
       "        <td>Black</td>\n",
       "        <td>Overall</td>\n",
       "        <td>-86.64295911</td>\n",
       "        <td>32.53530561</td>\n",
       "    </tr>\n",
       "    <tr>\n",
       "        <td>1001</td>\n",
       "        <td>2001</td>\n",
       "        <td>AL</td>\n",
       "        <td>Autauga</td>\n",
       "        <td>Cardiovascular Diseases</td>\n",
       "        <td>83.4</td>\n",
       "        <td>per 100,000</td>\n",
       "        <td>69</td>\n",
       "        <td>126.7</td>\n",
       "        <td>Ages 35-64 years</td>\n",
       "        <td>Black</td>\n",
       "        <td>Overall</td>\n",
       "        <td>-86.64295911</td>\n",
       "        <td>32.53530561</td>\n",
       "    </tr>\n",
       "    <tr>\n",
       "        <td>1001</td>\n",
       "        <td>2002</td>\n",
       "        <td>AL</td>\n",
       "        <td>Autauga</td>\n",
       "        <td>Cardiovascular Diseases</td>\n",
       "        <td>86.2</td>\n",
       "        <td>per 100,000</td>\n",
       "        <td>66.7</td>\n",
       "        <td>122.1</td>\n",
       "        <td>Ages 35-64 years</td>\n",
       "        <td>Black</td>\n",
       "        <td>Overall</td>\n",
       "        <td>-86.64295911</td>\n",
       "        <td>32.53530561</td>\n",
       "    </tr>\n",
       "</table>"
      ],
      "text/plain": [
       "[(1001, 2000, 'AL', 'Autauga', 'Cardiovascular Diseases', '76.9', 'per 100,000', '61.5', '99.6', 'Ages 35-64 years', 'Black', 'Overall', -86.64295911, 32.53530561),\n",
       " (1001, 2001, 'AL', 'Autauga', 'Cardiovascular Diseases', '83.4', 'per 100,000', '69', '126.7', 'Ages 35-64 years', 'Black', 'Overall', -86.64295911, 32.53530561),\n",
       " (1001, 2002, 'AL', 'Autauga', 'Cardiovascular Diseases', '86.2', 'per 100,000', '66.7', '122.1', 'Ages 35-64 years', 'Black', 'Overall', -86.64295911, 32.53530561)]"
      ]
     },
     "execution_count": 6,
     "metadata": {},
     "output_type": "execute_result"
    }
   ],
   "source": [
    "%%sql\n",
    "SELECT * FROM new_table LIMIT 3;"
   ]
  },
  {
   "cell_type": "code",
   "execution_count": 9,
   "id": "894fe204",
   "metadata": {},
   "outputs": [
    {
     "data": {
      "text/html": [
       "<div>\n",
       "<style scoped>\n",
       "    .dataframe tbody tr th:only-of-type {\n",
       "        vertical-align: middle;\n",
       "    }\n",
       "\n",
       "    .dataframe tbody tr th {\n",
       "        vertical-align: top;\n",
       "    }\n",
       "\n",
       "    .dataframe thead th {\n",
       "        text-align: right;\n",
       "    }\n",
       "</style>\n",
       "<table border=\"1\" class=\"dataframe\">\n",
       "  <thead>\n",
       "    <tr style=\"text-align: right;\">\n",
       "      <th></th>\n",
       "      <th>LocationID</th>\n",
       "      <th>Year</th>\n",
       "      <th>State</th>\n",
       "      <th>County</th>\n",
       "      <th>Class</th>\n",
       "      <th>Data_Value</th>\n",
       "      <th>Data_Value_Unit</th>\n",
       "      <th>Confidence_limit_Low</th>\n",
       "      <th>Confidence_limit_High</th>\n",
       "      <th>Age Group</th>\n",
       "      <th>Race/Ethnicity</th>\n",
       "      <th>Sex</th>\n",
       "      <th>X_long</th>\n",
       "      <th>Y_lat</th>\n",
       "    </tr>\n",
       "  </thead>\n",
       "  <tbody>\n",
       "    <tr>\n",
       "      <th>0</th>\n",
       "      <td>1001</td>\n",
       "      <td>2000</td>\n",
       "      <td>AL</td>\n",
       "      <td>Autauga</td>\n",
       "      <td>Cardiovascular Diseases</td>\n",
       "      <td>76.9</td>\n",
       "      <td>per 100,000</td>\n",
       "      <td>61.5</td>\n",
       "      <td>99.6</td>\n",
       "      <td>Ages 35-64 years</td>\n",
       "      <td>Black</td>\n",
       "      <td>Overall</td>\n",
       "      <td>-86.642959</td>\n",
       "      <td>32.535306</td>\n",
       "    </tr>\n",
       "    <tr>\n",
       "      <th>1</th>\n",
       "      <td>1001</td>\n",
       "      <td>2001</td>\n",
       "      <td>AL</td>\n",
       "      <td>Autauga</td>\n",
       "      <td>Cardiovascular Diseases</td>\n",
       "      <td>83.4</td>\n",
       "      <td>per 100,000</td>\n",
       "      <td>69</td>\n",
       "      <td>126.7</td>\n",
       "      <td>Ages 35-64 years</td>\n",
       "      <td>Black</td>\n",
       "      <td>Overall</td>\n",
       "      <td>-86.642959</td>\n",
       "      <td>32.535306</td>\n",
       "    </tr>\n",
       "    <tr>\n",
       "      <th>2</th>\n",
       "      <td>1001</td>\n",
       "      <td>2002</td>\n",
       "      <td>AL</td>\n",
       "      <td>Autauga</td>\n",
       "      <td>Cardiovascular Diseases</td>\n",
       "      <td>86.2</td>\n",
       "      <td>per 100,000</td>\n",
       "      <td>66.7</td>\n",
       "      <td>122.1</td>\n",
       "      <td>Ages 35-64 years</td>\n",
       "      <td>Black</td>\n",
       "      <td>Overall</td>\n",
       "      <td>-86.642959</td>\n",
       "      <td>32.535306</td>\n",
       "    </tr>\n",
       "    <tr>\n",
       "      <th>3</th>\n",
       "      <td>1001</td>\n",
       "      <td>2003</td>\n",
       "      <td>AL</td>\n",
       "      <td>Autauga</td>\n",
       "      <td>Cardiovascular Diseases</td>\n",
       "      <td>81.6</td>\n",
       "      <td>per 100,000</td>\n",
       "      <td>58.5</td>\n",
       "      <td>117</td>\n",
       "      <td>Ages 35-64 years</td>\n",
       "      <td>Black</td>\n",
       "      <td>Overall</td>\n",
       "      <td>-86.642959</td>\n",
       "      <td>32.535306</td>\n",
       "    </tr>\n",
       "    <tr>\n",
       "      <th>4</th>\n",
       "      <td>1001</td>\n",
       "      <td>2004</td>\n",
       "      <td>AL</td>\n",
       "      <td>Autauga</td>\n",
       "      <td>Cardiovascular Diseases</td>\n",
       "      <td>84.7</td>\n",
       "      <td>per 100,000</td>\n",
       "      <td>63.7</td>\n",
       "      <td>114.6</td>\n",
       "      <td>Ages 35-64 years</td>\n",
       "      <td>Black</td>\n",
       "      <td>Overall</td>\n",
       "      <td>-86.642959</td>\n",
       "      <td>32.535306</td>\n",
       "    </tr>\n",
       "  </tbody>\n",
       "</table>\n",
       "</div>"
      ],
      "text/plain": [
       "   LocationID  Year State   County                    Class Data_Value  \\\n",
       "0        1001  2000    AL  Autauga  Cardiovascular Diseases       76.9   \n",
       "1        1001  2001    AL  Autauga  Cardiovascular Diseases       83.4   \n",
       "2        1001  2002    AL  Autauga  Cardiovascular Diseases       86.2   \n",
       "3        1001  2003    AL  Autauga  Cardiovascular Diseases       81.6   \n",
       "4        1001  2004    AL  Autauga  Cardiovascular Diseases       84.7   \n",
       "\n",
       "  Data_Value_Unit Confidence_limit_Low Confidence_limit_High  \\\n",
       "0     per 100,000                 61.5                  99.6   \n",
       "1     per 100,000                   69                 126.7   \n",
       "2     per 100,000                 66.7                 122.1   \n",
       "3     per 100,000                 58.5                   117   \n",
       "4     per 100,000                 63.7                 114.6   \n",
       "\n",
       "          Age Group Race/Ethnicity      Sex     X_long      Y_lat  \n",
       "0  Ages 35-64 years          Black  Overall -86.642959  32.535306  \n",
       "1  Ages 35-64 years          Black  Overall -86.642959  32.535306  \n",
       "2  Ages 35-64 years          Black  Overall -86.642959  32.535306  \n",
       "3  Ages 35-64 years          Black  Overall -86.642959  32.535306  \n",
       "4  Ages 35-64 years          Black  Overall -86.642959  32.535306  "
      ]
     },
     "execution_count": 9,
     "metadata": {},
     "output_type": "execute_result"
    }
   ],
   "source": [
    "#Read in database as dataframe\n",
    "df = pd.read_sql('SELECT * FROM new_table;', engine)\n",
    "df.head()"
   ]
  },
  {
   "cell_type": "code",
   "execution_count": 10,
   "id": "3f87fb53",
   "metadata": {},
   "outputs": [
    {
     "name": "stdout",
     "output_type": "stream",
     "text": [
      "<class 'pandas.core.frame.DataFrame'>\n",
      "RangeIndex: 520520 entries, 0 to 520519\n",
      "Data columns (total 14 columns):\n",
      " #   Column                 Non-Null Count   Dtype  \n",
      "---  ------                 --------------   -----  \n",
      " 0   LocationID             520520 non-null  int64  \n",
      " 1   Year                   520520 non-null  int64  \n",
      " 2   State                  520520 non-null  object \n",
      " 3   County                 520520 non-null  object \n",
      " 4   Class                  520520 non-null  object \n",
      " 5   Data_Value             520520 non-null  object \n",
      " 6   Data_Value_Unit        520520 non-null  object \n",
      " 7   Confidence_limit_Low   520520 non-null  object \n",
      " 8   Confidence_limit_High  520520 non-null  object \n",
      " 9   Age Group              520520 non-null  object \n",
      " 10  Race/Ethnicity         520520 non-null  object \n",
      " 11  Sex                    520520 non-null  object \n",
      " 12  X_long                 520520 non-null  float64\n",
      " 13  Y_lat                  520520 non-null  float64\n",
      "dtypes: float64(2), int64(2), object(10)\n",
      "memory usage: 55.6+ MB\n"
     ]
    }
   ],
   "source": [
    "df.info()"
   ]
  },
  {
   "cell_type": "markdown",
   "id": "7094e5af",
   "metadata": {},
   "source": [
    "### Clean up data"
   ]
  },
  {
   "cell_type": "code",
   "execution_count": 12,
   "id": "facfa01f",
   "metadata": {},
   "outputs": [],
   "source": [
    "#Convert appropriate datatypes to numeric\n",
    "df[['Year', 'Data_Value', 'Confidence_limit_Low', 'Confidence_limit_High']]=df[['Year','Data_Value', 'Confidence_limit_Low', 'Confidence_limit_High']].apply(pd.to_numeric)"
   ]
  },
  {
   "cell_type": "code",
   "execution_count": 13,
   "id": "df62bdc5",
   "metadata": {},
   "outputs": [
    {
     "name": "stdout",
     "output_type": "stream",
     "text": [
      "<class 'pandas.core.frame.DataFrame'>\n",
      "RangeIndex: 520520 entries, 0 to 520519\n",
      "Data columns (total 14 columns):\n",
      " #   Column                 Non-Null Count   Dtype  \n",
      "---  ------                 --------------   -----  \n",
      " 0   LocationID             520520 non-null  int64  \n",
      " 1   Year                   520520 non-null  int64  \n",
      " 2   State                  520520 non-null  object \n",
      " 3   County                 520520 non-null  object \n",
      " 4   Class                  520520 non-null  object \n",
      " 5   Data_Value             520520 non-null  float64\n",
      " 6   Data_Value_Unit        520520 non-null  object \n",
      " 7   Confidence_limit_Low   520520 non-null  float64\n",
      " 8   Confidence_limit_High  520520 non-null  float64\n",
      " 9   Age Group              520520 non-null  object \n",
      " 10  Race/Ethnicity         520520 non-null  object \n",
      " 11  Sex                    520520 non-null  object \n",
      " 12  X_long                 520520 non-null  float64\n",
      " 13  Y_lat                  520520 non-null  float64\n",
      "dtypes: float64(5), int64(2), object(7)\n",
      "memory usage: 55.6+ MB\n"
     ]
    }
   ],
   "source": [
    "df.info()"
   ]
  },
  {
   "cell_type": "code",
   "execution_count": 31,
   "id": "34b332fc",
   "metadata": {},
   "outputs": [],
   "source": [
    "#Rename columns\n",
    "df.rename(columns={\"LocationID\":\"Location_ID\", \"Age Group\":\"Age_Group\", \"Race/Ethnicity\":\"Race_Ethinicity\"}, inplace=True)"
   ]
  },
  {
   "cell_type": "code",
   "execution_count": 32,
   "id": "45d60e0b",
   "metadata": {},
   "outputs": [
    {
     "data": {
      "text/plain": [
       "Index(['Location_ID', 'Year', 'State', 'County', 'Class', 'Data_Value',\n",
       "       'Data_Value_Unit', 'Confidence_limit_Low', 'Confidence_limit_High',\n",
       "       'Age_Group', 'Race_Ethinicity', 'Sex', 'X_long', 'Y_lat'],\n",
       "      dtype='object')"
      ]
     },
     "execution_count": 32,
     "metadata": {},
     "output_type": "execute_result"
    }
   ],
   "source": [
    "df.columns"
   ]
  },
  {
   "cell_type": "markdown",
   "id": "f1a6e229",
   "metadata": {},
   "source": [
    "### Save to Pickle File"
   ]
  },
  {
   "cell_type": "code",
   "execution_count": 33,
   "id": "0b19c5a2",
   "metadata": {},
   "outputs": [],
   "source": [
    "df.to_pickle(\"cv_mortality\")"
   ]
  },
  {
   "cell_type": "markdown",
   "id": "b38204a2",
   "metadata": {},
   "source": [
    "### Read in Pickle File"
   ]
  },
  {
   "cell_type": "code",
   "execution_count": 34,
   "id": "6e13e518",
   "metadata": {},
   "outputs": [],
   "source": [
    "df = pd.read_pickle(\"cv_mortality\")"
   ]
  },
  {
   "cell_type": "markdown",
   "id": "7fb1b97f",
   "metadata": {},
   "source": [
    "### Import Pandasql to Use SQL on Dataframes"
   ]
  },
  {
   "cell_type": "code",
   "execution_count": 19,
   "id": "46c9e617",
   "metadata": {},
   "outputs": [],
   "source": [
    "from pandasql import sqldf\n",
    "pysqldf = lambda q: sqldf(q, globals())"
   ]
  },
  {
   "cell_type": "code",
   "execution_count": 37,
   "id": "b11fd718",
   "metadata": {},
   "outputs": [
    {
     "data": {
      "text/html": [
       "<div>\n",
       "<style scoped>\n",
       "    .dataframe tbody tr th:only-of-type {\n",
       "        vertical-align: middle;\n",
       "    }\n",
       "\n",
       "    .dataframe tbody tr th {\n",
       "        vertical-align: top;\n",
       "    }\n",
       "\n",
       "    .dataframe thead th {\n",
       "        text-align: right;\n",
       "    }\n",
       "</style>\n",
       "<table border=\"1\" class=\"dataframe\">\n",
       "  <thead>\n",
       "    <tr style=\"text-align: right;\">\n",
       "      <th></th>\n",
       "      <th>Year</th>\n",
       "      <th>State</th>\n",
       "      <th>Age_Group</th>\n",
       "      <th>Sex</th>\n",
       "      <th>AVG(Data_Value)</th>\n",
       "    </tr>\n",
       "  </thead>\n",
       "  <tbody>\n",
       "    <tr>\n",
       "      <th>0</th>\n",
       "      <td>2000</td>\n",
       "      <td>AL</td>\n",
       "      <td>Ages 35-64 years</td>\n",
       "      <td>Female</td>\n",
       "      <td>19.590970</td>\n",
       "    </tr>\n",
       "    <tr>\n",
       "      <th>1</th>\n",
       "      <td>2000</td>\n",
       "      <td>AL</td>\n",
       "      <td>Ages 65+ years</td>\n",
       "      <td>Female</td>\n",
       "      <td>384.710762</td>\n",
       "    </tr>\n",
       "    <tr>\n",
       "      <th>2</th>\n",
       "      <td>2001</td>\n",
       "      <td>AL</td>\n",
       "      <td>Ages 35-64 years</td>\n",
       "      <td>Female</td>\n",
       "      <td>19.612093</td>\n",
       "    </tr>\n",
       "    <tr>\n",
       "      <th>3</th>\n",
       "      <td>2001</td>\n",
       "      <td>AL</td>\n",
       "      <td>Ages 65+ years</td>\n",
       "      <td>Female</td>\n",
       "      <td>392.555856</td>\n",
       "    </tr>\n",
       "    <tr>\n",
       "      <th>4</th>\n",
       "      <td>2002</td>\n",
       "      <td>AL</td>\n",
       "      <td>Ages 35-64 years</td>\n",
       "      <td>Female</td>\n",
       "      <td>20.192069</td>\n",
       "    </tr>\n",
       "    <tr>\n",
       "      <th>...</th>\n",
       "      <td>...</td>\n",
       "      <td>...</td>\n",
       "      <td>...</td>\n",
       "      <td>...</td>\n",
       "      <td>...</td>\n",
       "    </tr>\n",
       "    <tr>\n",
       "      <th>115</th>\n",
       "      <td>2017</td>\n",
       "      <td>AL</td>\n",
       "      <td>Ages 65+ years</td>\n",
       "      <td>Overall</td>\n",
       "      <td>446.357879</td>\n",
       "    </tr>\n",
       "    <tr>\n",
       "      <th>116</th>\n",
       "      <td>2018</td>\n",
       "      <td>AL</td>\n",
       "      <td>Ages 35-64 years</td>\n",
       "      <td>Overall</td>\n",
       "      <td>51.751295</td>\n",
       "    </tr>\n",
       "    <tr>\n",
       "      <th>117</th>\n",
       "      <td>2018</td>\n",
       "      <td>AL</td>\n",
       "      <td>Ages 65+ years</td>\n",
       "      <td>Overall</td>\n",
       "      <td>451.826860</td>\n",
       "    </tr>\n",
       "    <tr>\n",
       "      <th>118</th>\n",
       "      <td>2019</td>\n",
       "      <td>AL</td>\n",
       "      <td>Ages 35-64 years</td>\n",
       "      <td>Overall</td>\n",
       "      <td>53.522513</td>\n",
       "    </tr>\n",
       "    <tr>\n",
       "      <th>119</th>\n",
       "      <td>2019</td>\n",
       "      <td>AL</td>\n",
       "      <td>Ages 65+ years</td>\n",
       "      <td>Overall</td>\n",
       "      <td>469.408120</td>\n",
       "    </tr>\n",
       "  </tbody>\n",
       "</table>\n",
       "<p>120 rows × 5 columns</p>\n",
       "</div>"
      ],
      "text/plain": [
       "     Year State         Age_Group      Sex  AVG(Data_Value)\n",
       "0    2000    AL  Ages 35-64 years   Female        19.590970\n",
       "1    2000    AL    Ages 65+ years   Female       384.710762\n",
       "2    2001    AL  Ages 35-64 years   Female        19.612093\n",
       "3    2001    AL    Ages 65+ years   Female       392.555856\n",
       "4    2002    AL  Ages 35-64 years   Female        20.192069\n",
       "..    ...   ...               ...      ...              ...\n",
       "115  2017    AL    Ages 65+ years  Overall       446.357879\n",
       "116  2018    AL  Ages 35-64 years  Overall        51.751295\n",
       "117  2018    AL    Ages 65+ years  Overall       451.826860\n",
       "118  2019    AL  Ages 35-64 years  Overall        53.522513\n",
       "119  2019    AL    Ages 65+ years  Overall       469.408120\n",
       "\n",
       "[120 rows x 5 columns]"
      ]
     },
     "execution_count": 37,
     "metadata": {},
     "output_type": "execute_result"
    }
   ],
   "source": [
    "q = \"\"\" SELECT Year, State, Age_Group, Sex, AVG(Data_Value)\n",
    "        FROM df\n",
    "        GROUP BY Sex, Year, Age_Group;\"\"\"\n",
    "by_gender = pysqldf(q)\n",
    "by_gender"
   ]
  }
 ],
 "metadata": {
  "kernelspec": {
   "display_name": "Python [conda env:metis] *",
   "language": "python",
   "name": "conda-env-metis-py"
  },
  "language_info": {
   "codemirror_mode": {
    "name": "ipython",
    "version": 3
   },
   "file_extension": ".py",
   "mimetype": "text/x-python",
   "name": "python",
   "nbconvert_exporter": "python",
   "pygments_lexer": "ipython3",
   "version": "3.9.12"
  }
 },
 "nbformat": 4,
 "nbformat_minor": 5
}
