{
 "cells": [
  {
   "cell_type": "code",
   "execution_count": null,
   "id": "9f2287ba",
   "metadata": {},
   "outputs": [],
   "source": [
    "import pandas as pd\n",
    "import numpy as np\n",
    "import matplotlib.pyplot as plt\n",
    "import seaborn as sns\n",
    "import plotly.graph_objects as go\n",
    "\n",
    "# Create pie charts, groupby by age groups, gender, race/ethnicity\n",
    "\n",
    "def age_group(df):\n",
    "    age_filter = df.groupby('Age_Group')['Data_Value'].sum()\n",
    "    labels = ['Ages 35-64 yrs', 'Ages 65+ yrs']\n",
    "    colors_list = ['Maroon', 'tab:blue']\n",
    "    explode_val = (0,0.1)\n",
    "    font_size = {fontsize:12}\n",
    "    \n",
    "    age_dict={'x_filter': age_filter, 'labels':labels, 'colors': colors_list, 'explode':explode_val, 'textprops':font_size}\n",
    "    \n",
    "    return age_dict\n",
    "\n",
    "def gender_group(df):\n",
    "    genders = df[df['Sex']!='Overall']\n",
    "    gender_filter = genders.groupby('Sex')['Data_Value'].sum()\n",
    "    labels = ['Female','Male']\n",
    "    colors_list = ['Chocolate', 'DarkBlue']\n",
    "    explode_val = (0, 0.1)\n",
    "    return gender_filter\n",
    "\n",
    "def race_group(df):\n",
    "    race = df[df['Race_Ethnicity']!='Overall']\n",
    "    race_filter = race.groupby('Race_Ethnicity')['Data_Value'].sum()\n",
    "    labels = ['White', 'Black', 'Hispanic', 'Asian and Pacific Islander', 'American Indian and Alaska Native']\n",
    "    colors_list =['CadetBlue', 'Crimson', 'Cornsilk', 'DarkGray', 'DarkSalmon']\n",
    "    explode_val = (0.1, 0.1, 0.1, 0.1, 0.1)\n",
    "    return race_filter\n",
    "\n",
    "def pie_charts(x_filter):\n",
    "    pie_chart = plt.figure(figsize=(10,7))\n",
    "    plt.pie(x_filter, labels=labels, autopct='%1.1f%%', explode=explode_val, colors=colors_list, textprops={'fontsize':18})\n",
    "    \n",
    "    \n",
    "    \n",
    "    \n",
    "    \n",
    "def pieChart():\n",
    "    x = np.array([35, 25, 25, 15])\n",
    "    mylabels = [\"Python\", \"JavaScript\", \"C++\", \"C\"]\n",
    "\n",
    "    fig = plt.figure(figsize=(10, 4))\n",
    "    plt.pie(x, labels = mylabels)\n",
    "\n",
    "    st.balloons()\n",
    "    st.pyplot(fig)"
   ]
  },
  {
   "cell_type": "code",
   "execution_count": 1,
   "id": "424fdd57",
   "metadata": {},
   "outputs": [],
   "source": [
    "import pandas as pd\n",
    "import numpy as np\n",
    "import matplotlib.pyplot as plt\n",
    "import seaborn as sns\n",
    "import plotly.graph_objects as go\n"
   ]
  },
  {
   "cell_type": "code",
   "execution_count": 2,
   "id": "bdeb0466",
   "metadata": {},
   "outputs": [
    {
     "ename": "NameError",
     "evalue": "name 'df' is not defined",
     "output_type": "error",
     "traceback": [
      "\u001b[1;31m---------------------------------------------------------------------------\u001b[0m",
      "\u001b[1;31mNameError\u001b[0m                                 Traceback (most recent call last)",
      "\u001b[1;32m~\\AppData\\Local\\Temp/ipykernel_438548/1416532555.py\u001b[0m in \u001b[0;36m<cell line: 1>\u001b[1;34m()\u001b[0m\n\u001b[1;32m----> 1\u001b[1;33m \u001b[0mage_filter\u001b[0m \u001b[1;33m=\u001b[0m \u001b[0mdf\u001b[0m\u001b[1;33m.\u001b[0m\u001b[0mgroupby\u001b[0m\u001b[1;33m(\u001b[0m\u001b[1;34m'Age_Group'\u001b[0m\u001b[1;33m)\u001b[0m\u001b[1;33m[\u001b[0m\u001b[1;34m'Data_Value'\u001b[0m\u001b[1;33m]\u001b[0m\u001b[1;33m.\u001b[0m\u001b[0msum\u001b[0m\u001b[1;33m(\u001b[0m\u001b[1;33m)\u001b[0m\u001b[1;33m\u001b[0m\u001b[1;33m\u001b[0m\u001b[0m\n\u001b[0m\u001b[0;32m      2\u001b[0m \u001b[0mlabels\u001b[0m \u001b[1;33m=\u001b[0m \u001b[1;33m[\u001b[0m\u001b[1;34m'Ages 35-64 yrs'\u001b[0m\u001b[1;33m,\u001b[0m \u001b[1;34m'Ages 65+ yrs'\u001b[0m\u001b[1;33m]\u001b[0m\u001b[1;33m\u001b[0m\u001b[1;33m\u001b[0m\u001b[0m\n\u001b[0;32m      3\u001b[0m \u001b[0mcolors_list\u001b[0m \u001b[1;33m=\u001b[0m \u001b[1;33m[\u001b[0m\u001b[1;34m'Maroon'\u001b[0m\u001b[1;33m,\u001b[0m \u001b[1;34m'tab:blue'\u001b[0m\u001b[1;33m]\u001b[0m\u001b[1;33m\u001b[0m\u001b[1;33m\u001b[0m\u001b[0m\n\u001b[0;32m      4\u001b[0m \u001b[0mexplode_val\u001b[0m \u001b[1;33m=\u001b[0m \u001b[1;33m(\u001b[0m\u001b[1;36m0\u001b[0m\u001b[1;33m,\u001b[0m\u001b[1;36m0.1\u001b[0m\u001b[1;33m)\u001b[0m\u001b[1;33m\u001b[0m\u001b[1;33m\u001b[0m\u001b[0m\n\u001b[0;32m      5\u001b[0m \u001b[0mfont_size\u001b[0m \u001b[1;33m=\u001b[0m \u001b[1;33m{\u001b[0m\u001b[0mfontsize\u001b[0m\u001b[1;33m:\u001b[0m\u001b[1;36m12\u001b[0m\u001b[1;33m}\u001b[0m\u001b[1;33m\u001b[0m\u001b[1;33m\u001b[0m\u001b[0m\n",
      "\u001b[1;31mNameError\u001b[0m: name 'df' is not defined"
     ]
    }
   ],
   "source": [
    "age_filter = df.groupby('Age_Group')['Data_Value'].sum()\n",
    "labels = ['Ages 35-64 yrs', 'Ages 65+ yrs']\n",
    "colors_list = ['Maroon', 'tab:blue']\n",
    "explode_val = (0,0.1)\n",
    "font_size = {fontsize:12}\n",
    "    \n",
    "age_dict={'x_filter': age_filter, 'labels':labels, 'colors': colors_list, 'explode':explode_val, 'textprops':font_size}"
   ]
  },
  {
   "cell_type": "code",
   "execution_count": null,
   "id": "a8bea5ca",
   "metadata": {},
   "outputs": [],
   "source": [
    "pie_age = plt.figure(figsize=(5,5))\n",
    "plt.pie(age_filter, labels=age_groups, autopct='%1.1f%%', explode = explode_val, colors=colors_list, textprops={'fontsize': 12})\n",
    "st.pyplot(pie_age)"
   ]
  }
 ],
 "metadata": {
  "kernelspec": {
   "display_name": "Python [conda env:metis] *",
   "language": "python",
   "name": "conda-env-metis-py"
  },
  "language_info": {
   "codemirror_mode": {
    "name": "ipython",
    "version": 3
   },
   "file_extension": ".py",
   "mimetype": "text/x-python",
   "name": "python",
   "nbconvert_exporter": "python",
   "pygments_lexer": "ipython3",
   "version": "3.9.12"
  }
 },
 "nbformat": 4,
 "nbformat_minor": 5
}
