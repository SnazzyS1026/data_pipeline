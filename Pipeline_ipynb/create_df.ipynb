{
 "cells": [
  {
   "cell_type": "markdown",
   "id": "03a8ce57",
   "metadata": {},
   "source": [
    "#### Connect to SQL Database in Notebook, Create df"
   ]
  },
  {
   "cell_type": "code",
   "execution_count": null,
   "id": "b0efdc53",
   "metadata": {},
   "outputs": [],
   "source": [
    "import pandas as pd\n",
    "import numpy as np\n",
    "from sqlalchemy import create_engine\n",
    "\n",
    "def create_df():\n",
    "    engine = create_engine(\"sqlite:///C:\\\\Users\\sandr\\OneDrive\\Desktop\\Metis\\DS_Engineering\\Projects\\Data_Pipeline\\github_files\\cardiovascular_mortality_db.db\")\n",
    "    df = pd.read_sql(\n",
    "    '''\n",
    "    SELECT *\n",
    "    FROM\n",
    "    new_table;\n",
    "    '''\n",
    "    , engine)\n",
    "    \n",
    "    return df\n"
   ]
  }
 ],
 "metadata": {
  "kernelspec": {
   "display_name": "Python [conda env:metis] *",
   "language": "python",
   "name": "conda-env-metis-py"
  },
  "language_info": {
   "codemirror_mode": {
    "name": "ipython",
    "version": 3
   },
   "file_extension": ".py",
   "mimetype": "text/x-python",
   "name": "python",
   "nbconvert_exporter": "python",
   "pygments_lexer": "ipython3",
   "version": "3.9.12"
  }
 },
 "nbformat": 4,
 "nbformat_minor": 5
}
