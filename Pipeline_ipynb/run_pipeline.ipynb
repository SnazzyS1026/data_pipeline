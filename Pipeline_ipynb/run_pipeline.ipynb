{
 "cells": [
  {
   "cell_type": "code",
   "execution_count": null,
   "id": "ba408d44",
   "metadata": {},
   "outputs": [],
   "source": [
    "from create_df import create_df\n",
    "from data_cleaning import *\n",
    "from write_to_csv import write_to_csv\n",
    "\n",
    "\n",
    "def run_pipeline():\n",
    "    \n",
    "    # Get and clean data\n",
    "    df=create_df()\n",
    "    df=convert_dt(df)\n",
    "    df=rename_cols(df)\n",
    "    \n",
    "    # Output to csv\n",
    "    df.to_csv('cv_mortality.gz', compression='gzip', encoding='utf-8', index=False)\n",
    "    \n",
    "if __name__=='__main__':\n",
    "    run_pipeline()\n",
    "    \n",
    "    #if the name of the python instance is main, go ahead and run the application"
   ]
  }
 ],
 "metadata": {
  "kernelspec": {
   "display_name": "Python [conda env:metis] *",
   "language": "python",
   "name": "conda-env-metis-py"
  },
  "language_info": {
   "codemirror_mode": {
    "name": "ipython",
    "version": 3
   },
   "file_extension": ".py",
   "mimetype": "text/x-python",
   "name": "python",
   "nbconvert_exporter": "python",
   "pygments_lexer": "ipython3",
   "version": "3.9.12"
  }
 },
 "nbformat": 4,
 "nbformat_minor": 5
}
