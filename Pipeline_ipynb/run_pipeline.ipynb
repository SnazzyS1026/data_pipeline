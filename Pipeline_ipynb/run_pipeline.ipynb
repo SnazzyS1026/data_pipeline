{
 "cells": [
  {
   "cell_type": "code",
   "execution_count": 1,
   "id": "ba408d44",
   "metadata": {},
   "outputs": [
    {
     "ename": "ModuleNotFoundError",
     "evalue": "No module named 'create_df'",
     "output_type": "error",
     "traceback": [
      "\u001b[1;31m---------------------------------------------------------------------------\u001b[0m",
      "\u001b[1;31mModuleNotFoundError\u001b[0m                       Traceback (most recent call last)",
      "\u001b[1;32mc:\\Users\\sandr\\OneDrive\\Desktop\\Metis\\DS_Engineering\\Projects\\Data_Pipeline\\github_files\\Pipeline_ipynb\\run_pipeline.ipynb Cell 1\u001b[0m in \u001b[0;36m<cell line: 1>\u001b[1;34m()\u001b[0m\n\u001b[1;32m----> <a href='vscode-notebook-cell:/c%3A/Users/sandr/OneDrive/Desktop/Metis/DS_Engineering/Projects/Data_Pipeline/github_files/Pipeline_ipynb/run_pipeline.ipynb#W0sZmlsZQ%3D%3D?line=0'>1</a>\u001b[0m \u001b[39mfrom\u001b[39;00m \u001b[39mcreate_df\u001b[39;00m \u001b[39mimport\u001b[39;00m create_df\n\u001b[0;32m      <a href='vscode-notebook-cell:/c%3A/Users/sandr/OneDrive/Desktop/Metis/DS_Engineering/Projects/Data_Pipeline/github_files/Pipeline_ipynb/run_pipeline.ipynb#W0sZmlsZQ%3D%3D?line=1'>2</a>\u001b[0m \u001b[39mfrom\u001b[39;00m \u001b[39mdata_cleaning\u001b[39;00m \u001b[39mimport\u001b[39;00m \u001b[39m*\u001b[39m\n\u001b[0;32m      <a href='vscode-notebook-cell:/c%3A/Users/sandr/OneDrive/Desktop/Metis/DS_Engineering/Projects/Data_Pipeline/github_files/Pipeline_ipynb/run_pipeline.ipynb#W0sZmlsZQ%3D%3D?line=2'>3</a>\u001b[0m \u001b[39mfrom\u001b[39;00m \u001b[39mwrite_to_csv\u001b[39;00m \u001b[39mimport\u001b[39;00m write_to_csv\n",
      "\u001b[1;31mModuleNotFoundError\u001b[0m: No module named 'create_df'"
     ]
    }
   ],
   "source": [
    "from create_df import create_df\n",
    "from data_cleaning import *\n",
    "from write_to_csv import write_to_csv\n",
    "from sql_query_df import *\n",
    "\n",
    "def run_pipeline():\n",
    "    \n",
    "    # Get and clean data\n",
    "    df=create_df()\n",
    "    df=convert_dt(df)\n",
    "    df=rename_cols(df)\n",
    "    \n",
    "    # write sql query into df\n",
    "    groupby_state = groupby_state(df)\n",
    "    groupby_county_2019 = groupby_county_2019(df)\n",
    "\n",
    "    # Output to csv\n",
    "    df.write_to_csv('cv_mortality.gz', compression='gzip', encoding='utf-8', index=False)\n",
    "    groupby_state.write_to_csv('groupby_state.csv', encoding='utf-8', index=False)\n",
    "    groupby_county_2019.write_to_csv('county_2019.csv', encoding='utf-8', index=False)\n",
    "\n",
    "    \n",
    "if __name__=='__main__':\n",
    "    run_pipeline()\n",
    "    \n",
    "    #if the name of the python instance is main, go ahead and run the application\n",
    "\n",
    "run_pipeline()"
   ]
  },
  {
   "cell_type": "code",
   "execution_count": null,
   "id": "3a597d8a",
   "metadata": {},
   "outputs": [],
   "source": []
  },
  {
   "cell_type": "code",
   "execution_count": null,
   "id": "c8659a72",
   "metadata": {},
   "outputs": [],
   "source": []
  }
 ],
 "metadata": {
  "kernelspec": {
   "display_name": "Python 3.9.13 64-bit",
   "language": "python",
   "name": "python3"
  },
  "language_info": {
   "codemirror_mode": {
    "name": "ipython",
    "version": 3
   },
   "file_extension": ".py",
   "mimetype": "text/x-python",
   "name": "python",
   "nbconvert_exporter": "python",
   "pygments_lexer": "ipython3",
   "version": "3.9.13"
  },
  "vscode": {
   "interpreter": {
    "hash": "b1954979648a42aaa698b66077bb093fad70a403f06934bfc9d3e1385c3a6e5f"
   }
  }
 },
 "nbformat": 4,
 "nbformat_minor": 5
}
