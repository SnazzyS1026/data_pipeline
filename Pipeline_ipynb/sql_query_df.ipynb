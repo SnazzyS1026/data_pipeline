{
 "cells": [
  {
   "cell_type": "code",
   "execution_count": null,
   "id": "3346bb04",
   "metadata": {},
   "outputs": [],
   "source": [
    "from pandasql import sqldf\n",
    "pysqldf = lambda q: sqldf(q, globals())\n",
    "\n",
    "# Create new pandas dataframes from sql query\n",
    "\n",
    "def group_state(): \n",
    "    q = \"\"\" \n",
    "        SELECT Year, State, Data_Value, Sex, Longitude as lon, Latitude as lat, AVG(Data_Value)\n",
    "        FROM df\n",
    "        WHERE Sex <> 'Overall'\n",
    "        GROUP BY State, Year;\n",
    "        \"\"\"\n",
    "    groupby_state = pysqldf(q)\n",
    "    return groupby_state\n",
    "\n",
    "\n",
    "def group_county_2019():\n",
    "    q = \"\"\" \n",
    "        SELECT Year, County, State, Data_Value, Sex, Longitude as lon, Latitude as lat, AVG(Data_Value)\n",
    "        FROM df\n",
    "        WHERE Sex <> 'Overall'\n",
    "        AND Year==2019\n",
    "        GROUP BY County, Year\n",
    "        ORDER BY State;\n",
    "        \"\"\"\n",
    "    groupby_county_2019 = pysqldf(q)\n",
    "    return groupby_county_2019\n",
    "    "
   ]
  }
 ],
 "metadata": {
  "kernelspec": {
   "display_name": "Python [conda env:metis] *",
   "language": "python",
   "name": "conda-env-metis-py"
  },
  "language_info": {
   "codemirror_mode": {
    "name": "ipython",
    "version": 3
   },
   "file_extension": ".py",
   "mimetype": "text/x-python",
   "name": "python",
   "nbconvert_exporter": "python",
   "pygments_lexer": "ipython3",
   "version": "3.9.12"
  }
 },
 "nbformat": 4,
 "nbformat_minor": 5
}
