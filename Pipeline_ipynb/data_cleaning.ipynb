{
 "cells": [
  {
   "cell_type": "code",
   "execution_count": null,
   "id": "11c76b99",
   "metadata": {},
   "outputs": [],
   "source": [
    "import pandas as pd\n",
    "import numpy as np\n",
    "\n",
    "# Convert specific columns to appropriate datatypes\n",
    "def convert_dt(df):\n",
    "    df[['Year', 'Data_Value', 'Confidence_limit_Low', \n",
    "        'Confidence_limit_High']]=df[['Year','Data_Value', 'Confidence_limit_Low', \n",
    "                                      'Confidence_limit_High']].apply(pd.to_numeric)\n",
    "    return df\n",
    "\n",
    "# Rename columns for easier interpretability\n",
    "def rename_cols(df):\n",
    "    df.rename(columns={\"LocationID\": \"Location_ID\", \"Age Group\": \"Age_Group\", \n",
    "                       \"Race/Ethnicity\":\"Race_Ethnicity\", \"X_long\": \"Longitude\", \n",
    "                       \"Y_lat\": \"Latitude\"}, inplace=True)\n",
    "    return df"
   ]
  }
 ],
 "metadata": {
  "kernelspec": {
   "display_name": "Python [conda env:metis] *",
   "language": "python",
   "name": "conda-env-metis-py"
  },
  "language_info": {
   "codemirror_mode": {
    "name": "ipython",
    "version": 3
   },
   "file_extension": ".py",
   "mimetype": "text/x-python",
   "name": "python",
   "nbconvert_exporter": "python",
   "pygments_lexer": "ipython3",
   "version": "3.9.12"
  }
 },
 "nbformat": 4,
 "nbformat_minor": 5
}
